{
 "cells": [
  {
   "cell_type": "markdown",
   "metadata": {},
   "source": [
    "# U.S. Medical Insurance Costs\n",
    "\n",
    "In this project, I will be investigating US medical insurance costs within **insurance.csv** to learn more about the patient \n",
    "information in the file and gain insights into potential use cases for the dataset."
   ]
  },
  {
   "cell_type": "code",
   "execution_count": 169,
   "metadata": {},
   "outputs": [],
   "source": [
    "# Import pandas modules\n",
    "import pandas as pd"
   ]
  },
  {
   "cell_type": "code",
   "execution_count": 170,
   "metadata": {},
   "outputs": [
    {
     "name": "stdout",
     "output_type": "stream",
     "text": [
      "   age     sex     bmi  children smoker     region      charges\n",
      "0   19  female  27.900         0    yes  southwest  16884.92400\n",
      "1   18    male  33.770         1     no  southeast   1725.55230\n",
      "2   28    male  33.000         3     no  southeast   4449.46200\n",
      "3   33    male  22.705         0     no  northwest  21984.47061\n",
      "4   32    male  28.880         0     no  northwest   3866.85520\n"
     ]
    }
   ],
   "source": [
    "# Read and store csv into a variable uses pandas\n",
    "df = pd.read_csv('insurance.csv')\n",
    "\n",
    "print(df.head())"
   ]
  },
  {
   "cell_type": "code",
   "execution_count": 171,
   "metadata": {},
   "outputs": [],
   "source": [
    "# Store column values into corresponding lists\n",
    "ages = df['age'].tolist()\n",
    "sexes = df['sex'].tolist()\n",
    "bmis = df['bmi'].tolist()\n",
    "num_children = df['children'].tolist()\n",
    "smoker_status = df['smoker'].tolist()\n",
    "regions = df['region'].tolist()\n",
    "charges = df['charges'].tolist()"
   ]
  },
  {
   "cell_type": "code",
   "execution_count": 179,
   "metadata": {},
   "outputs": [],
   "source": [
    "# Create a class that will gain perform analysis on insurance datas\n",
    "class PatientsInfo:\n",
    "    def __init__(self, patients_ages, patients_sex, patients_bmis, patients_num_children, patients_smoker_status,\n",
    "                 patients_regions, patients_charges):\n",
    "        self.patients_ages = patients_ages\n",
    "        self.patients_sex = patients_sex\n",
    "        self.patients_bmis = patients_bmis\n",
    "        self.patients_num_children = patients_num_children\n",
    "        self.patients_smoker_status = patients_smoker_status\n",
    "        self.patients_regions = patients_regions\n",
    "        self.patients_charges = patients_charges\n",
    "        \n",
    "    # Method that calculates the average ages of the patients in insurance.csv\n",
    "    def analyse_ages(self):\n",
    "        # initialize total age at zero\n",
    "        total_age = 0\n",
    "        # iterate through all ages in the ages list\n",
    "        for age in self.patients_ages:\n",
    "            # sum of the total age\n",
    "            total_age += int(age)\n",
    "        # Return total age divided by the length of the patient list\n",
    "        return (\"Average Patient Age: \" + str(round(total_age/len(self.patients_ages), 2)) + \" years\")\n",
    "    \n",
    "    # Method to find the number of patients in region and return the resultant data as a dictionary\n",
    "    def analyse_regions(self):\n",
    "        # Initialise dictionary\n",
    "        region_count = {} # region -> total patients\n",
    "        # Iterate through list and increment each region accordingly\n",
    "        for region in self.patients_regions:\n",
    "            region_count[region] = 1 + region_count.get(region , 0)\n",
    "        # Return the dictionary\n",
    "        return region_count\n",
    "    \n",
    "    # Method to calculate the average yearly charge\n",
    "    def average_charges(self):\n",
    "        # Initialise total charges\n",
    "        total_charges = 0\n",
    "        # Iterate through list\n",
    "        for charge in self.patients_charges:\n",
    "            total_charges += charge\n",
    "        # Return the average \n",
    "        return (\"Average Yearly Medical Insurance Charges: \" +  \n",
    "                str(round(total_charges/len(self.patients_charges), 2)) + \" dollars.\")\n",
    "    \n",
    "    # Method to calculate average insurance cost for each region\n",
    "    def average_region_cost(self):\n",
    "        # Initialise empty dictionary\n",
    "        region_total_charges = {} # region -> total charge\n",
    "        \n",
    "        # Use analyse.regions() to return unique region dictionary with its corresponding patient population\n",
    "        unique_regions = self.analyse_regions()\n",
    "        \n",
    "        # Iterate through patients_regions to increment the total charge for each unique region\n",
    "        for index, region in enumerate(self.patients_regions):\n",
    "            region_total_charges[region] = self.patients_charges[index] + region_total_charges.get(region, 0)\n",
    "        \n",
    "        # Iterate through region_total_charges to calculate average using the unique_region dictionary\n",
    "        for region in region_total_charges:\n",
    "            region_total_charges[region] = region_total_charges.get(region, 0) // unique_regions[region]\n",
    "        return region_total_charges\n",
    "    \n",
    "    # Method to calculate the difference between the average non-smoker and smoker insurance cost\n",
    "    def analyse_smoker(self):\n",
    "        # Initalise total charges for smoker and non-smoker as well as the total count\n",
    "        smoker_total_charge = 0\n",
    "        non_smoker_total_charge = 0\n",
    "        total_smokers = 0\n",
    "        total_non_smokers = 0\n",
    "        \n",
    "        # Interate through the patient smoker status list\n",
    "        for index, status in enumerate(self.patients_smoker_status):\n",
    "            if status == 'yes':\n",
    "                smoker_total_charge += self.patients_charges[index]\n",
    "                total_smokers += 1\n",
    "            non_smoker_total_charge += self.patients_charges[index]\n",
    "            total_non_smokers += 1\n",
    "        \n",
    "        # Calculate the average\n",
    "        average_smoker_charge = smoker_total_charge // total_smokers\n",
    "        average_non_smoker_charge = non_smoker_total_charge // total_non_smokers\n",
    "        \n",
    "        # Return the average for both groups as well as the difference between them\n",
    "        return (\"The Average Yearly Medical Insurance Charges for Smokers is \" + str(average_smoker_charge) + \n",
    "               \" and for non-smoker is \" + str(average_non_smoker_charge) + \n",
    "               \" The difference between the groups is \" + str(average_smoker_charge - average_non_smoker_charge))\n",
    "    \n",
    "    # Method to retrieve average charge per age group\n",
    "    def cost_per_age_group(self):\n",
    "        # Initialise age group varaibles and set to zero\n",
    "        total_18_25 = 0\n",
    "        total_26_35 = 0\n",
    "        total_36_45 = 0\n",
    "        total_46_55 = 0\n",
    "        total_56_65 = 0\n",
    "        total_over_65 = 0\n",
    "        count_18_25 = 0\n",
    "        count_26_35 = 0\n",
    "        count_36_45 = 0\n",
    "        count_46_55 = 0\n",
    "        count_56_65 = 0\n",
    "        count_over_65 = 0\n",
    "        # Iterate through patients ages and increment the corresponding total and count variables\n",
    "        for index, age in enumerate(self.patients_ages):\n",
    "            if age >= 18 and age <= 25:\n",
    "                total_18_25 += self.patients_charges[index]\n",
    "                count_18_25 += 1\n",
    "            elif age >= 26 and age <= 35:\n",
    "                total_26_35 += self.patients_charges[index]\n",
    "                count_26_35 += 1\n",
    "            elif age >= 36 and age <= 45:\n",
    "                total_36_45 += self.patients_charges[index]\n",
    "                count_36_45 += 1\n",
    "            elif age >= 46 and age <= 55:\n",
    "                total_46_55 += self.patients_charges[index]\n",
    "                count_46_55 += 1\n",
    "            elif age >= 56 and age <= 65:\n",
    "                total_56_65 += self.patients_charges[index]\n",
    "                count_56_65 += 1\n",
    "            else:\n",
    "                total_over_65 += self.patients_charges[index]\n",
    "                count_over_65 += 1\n",
    "                \n",
    "        # Calculate the average\n",
    "        avg_18_25 = round((total_18_25 / count_18_25),2)\n",
    "        avg_26_35 = round((total_26_35 / count_18_25),2)\n",
    "        avg_36_45 = round((total_36_45 / count_18_25),2)\n",
    "        avg_46_55 = round((total_46_55 / count_18_25),2)\n",
    "        avg_56_65 = round((total_56_65 / count_18_25),2)\n",
    "        avg_over_65 = round((total_over_65 / count_18_25),2)\n",
    "    \n",
    "        # Create a dictionary to hold the results\n",
    "        price_per_age_group = {} # age group -> average cost\n",
    "        price_per_age_group['Avg 18-25'] = avg_18_25\n",
    "        price_per_age_group['Avg 26-35'] = avg_26_35\n",
    "        price_per_age_group['Avg 36-45'] = avg_36_45\n",
    "        price_per_age_group['Avg 45-55'] = avg_46_55\n",
    "        price_per_age_group['Avg_56-65'] = avg_56_65\n",
    "        price_per_age_group['Avg over 65'] = avg_over_65\n",
    "        \n",
    "        # Return dictionary \n",
    "        return price_per_age_group"
   ]
  },
  {
   "cell_type": "code",
   "execution_count": 180,
   "metadata": {},
   "outputs": [],
   "source": [
    "# Create an instance of the PatientInfo class to analyse insurance data\n",
    "patient_info = PatientsInfo(ages, sexes, bmis, num_children, smoker_status, regions, charges)"
   ]
  },
  {
   "cell_type": "code",
   "execution_count": 181,
   "metadata": {},
   "outputs": [
    {
     "data": {
      "text/plain": [
       "'Average Patient Age: 39.21 years'"
      ]
     },
     "execution_count": 181,
     "metadata": {},
     "output_type": "execute_result"
    }
   ],
   "source": [
    "patient_info.analyse_ages()"
   ]
  },
  {
   "cell_type": "markdown",
   "metadata": {},
   "source": [
    "The average age of the patients in **insurance.csv** is about 39 years old. This is important to check in order to ensure the data in **insurance.csv** is representative for a broader population. If it is decided to use the dataset to make inferences about other populations, the data must abundant and broad enough for such use cases.\n",
    "\n",
    "A further analysis would have to be done to make sure the range and standard deviation of the patient age group in **insurance.csv** is indicative of a random sampling of individuals. "
   ]
  },
  {
   "cell_type": "code",
   "execution_count": 182,
   "metadata": {},
   "outputs": [
    {
     "data": {
      "text/plain": [
       "'Average Yearly Medical Insurance Charges: 13270.42 dollars.'"
      ]
     },
     "execution_count": 182,
     "metadata": {},
     "output_type": "execute_result"
    }
   ],
   "source": [
    "patient_info.average_charges()"
   ]
  },
  {
   "cell_type": "markdown",
   "metadata": {},
   "source": [
    "The average yearly medical insurance charge per individual is 13270 US dollars. Some further analysis could be done to see what patient attributes contribute most strongly to low and/or high medical insurance charges. For example, one could check if patient age correlates with the amount of money they spend yearly.\n",
    "\n",
    "Since the data of insurance is likely to be skewed by outliers with extremely high insurance cost, finding the IQR range of the charges will give us insight on the spread of insurance cost as well showing us the a better representation of the likely average. The mean calulcated by patient_info is likely to be skewed. Although the data might be biased towards southeast patients"
   ]
  },
  {
   "cell_type": "code",
   "execution_count": 183,
   "metadata": {},
   "outputs": [
    {
     "data": {
      "text/plain": [
       "{'southwest': 325, 'southeast': 364, 'northwest': 325, 'northeast': 324}"
      ]
     },
     "execution_count": 183,
     "metadata": {},
     "output_type": "execute_result"
    }
   ],
   "source": [
    "patient_info.analyse_regions()"
   ]
  },
  {
   "cell_type": "markdown",
   "metadata": {},
   "source": [
    "There are four regions representing the US medical insurance data. The regions all have near the same population with only southeast having a slightly signficant population. The data will represent each region well. "
   ]
  },
  {
   "cell_type": "code",
   "execution_count": 184,
   "metadata": {
    "scrolled": true
   },
   "outputs": [
    {
     "data": {
      "text/plain": [
       "'The Average Yearly Medical Insurance Charges for Smokers is 32050.0 and for non-smoker is 13270.0 The difference between the groups is 18780.0'"
      ]
     },
     "execution_count": 184,
     "metadata": {},
     "output_type": "execute_result"
    }
   ],
   "source": [
    "patient_info.analyse_smoker()"
   ]
  },
  {
   "cell_type": "markdown",
   "metadata": {},
   "source": [
    "The difference between the average smoking and non smoking charge is 18780.0 dollars. It is therefore recommeded to not smoke for a cheaper insurance cost. "
   ]
  },
  {
   "cell_type": "code",
   "execution_count": 185,
   "metadata": {},
   "outputs": [
    {
     "data": {
      "text/plain": [
       "{'Avg 18-25': 9087.02,\n",
       " 'Avg 26-35': 9191.84,\n",
       " 'Avg 36-45': 11641.44,\n",
       " 'Avg 45-55': 14837.52,\n",
       " 'Avg_56-65': 13267.76,\n",
       " 'Avg over 65': 0.0}"
      ]
     },
     "execution_count": 185,
     "metadata": {},
     "output_type": "execute_result"
    }
   ],
   "source": [
    "patient_info.cost_per_age_group()"
   ]
  },
  {
   "cell_type": "markdown",
   "metadata": {},
   "source": [
    "Medical insurance costs generally increase with age. Patients in the 18-25 and 26-35 age brackets pay significantly less in annual medical insurance bills than older patients. However, the 46-55 age group spends more on annual medical insurance than the 56-65s. There is also no recorded insrance cost for patients over the age of 65. "
   ]
  }
 ],
 "metadata": {
  "kernelspec": {
   "display_name": "Python 3",
   "language": "python",
   "name": "python3"
  },
  "language_info": {
   "codemirror_mode": {
    "name": "ipython",
    "version": 3
   },
   "file_extension": ".py",
   "mimetype": "text/x-python",
   "name": "python",
   "nbconvert_exporter": "python",
   "pygments_lexer": "ipython3",
   "version": "3.8.5"
  }
 },
 "nbformat": 4,
 "nbformat_minor": 4
}
